{
 "cells": [
  {
   "cell_type": "markdown",
   "metadata": {},
   "source": [
    "# Data Visualization using React and C3js"
   ]
  },
  {
   "cell_type": "markdown",
   "metadata": {},
   "source": [
    "Data that does not incite action is just extra information, or even worse, *distracting noise*. A data scientist's job at the end of the day is to influence decisions through data. In order to this effectively, we need be able to tell the story as to the what, why, and how behind the recommendation and data. One of the best ways to do this concisely is through a visualization, because\n",
    "\n",
    "> ### A picture is worth a thousand words\n",
    "\n",
    "Examples:\n",
    "* https://excelcharts.com/redraw-troops-vs-cost-time-magazine/\n",
    "* https://bl.ocks.org/mbostock/4060606\n",
    "* http://www.nytimes.com/interactive/2013/05/25/sunday-review/corporate-taxes.html\n",
    "\n",
    "But why learn how to do this through web frontend technologies? Web is generally accessible and opens the door for interactive visualizations, which can be extremely powerful."
   ]
  },
  {
   "cell_type": "markdown",
   "metadata": {},
   "source": [
    "## React\n",
    "React is a Javascript library produced by Facebook to facilitate building web applications by making components of web applications reusable. The reason why we care to learn this tool is because it opens the door to using components others have created (some of which can get quite complex). Knowing when to lean on others expertise is what allows a data scientist to execute quickly. This will become much clearer shortly."
   ]
  },
  {
   "cell_type": "markdown",
   "metadata": {},
   "source": [
    "## C3js\n",
    "C3js builds on top of another Javascript visualization library called d3js. d3js is extremely powerful but can be very time-consuming and repetitive to build visualizations. C3js and similar libraries removes much of the repetition by standardizing how data should be format and what visualizations are available to use (d3js is so customizable, powerful that custom visualizations is it shines).\n",
    "\n",
    "Explore the C3js website and compare to the options for d3js\n",
    "* http://c3js.org/\n",
    "* http://c3js.org/samples/simple_multiple.html\n",
    "* https://d3js.org/\n",
    "* https://github.com/d3/d3/wiki/Gallery"
   ]
  },
  {
   "cell_type": "markdown",
   "metadata": {},
   "source": [
    "## react-c3js\n",
    "react-c3js is an example of the benefits of learning the language of a domain. C3js would require the following code\n",
    "\n",
    "```\n",
    "<div id=\"chart\"></div>\n",
    "\n",
    "<script>\n",
    "var chart = c3.generate({\n",
    "    bindto: '#chart',\n",
    "    data: {\n",
    "        // Some data here\n",
    "    }\n",
    "});\n",
    "</script>\n",
    "```\n",
    "\n",
    "versus\n",
    "\n",
    "```\n",
    "ReactDOM.render(\n",
    "    <C3Chart data={dataAndSettings} />,\n",
    "    document.getElementById('react-c3js')\n",
    ");\n",
    "```\n",
    "\n",
    "While this is not a significant reduction of work on our part, this difference grows quickly as complexity increases."
   ]
  },
  {
   "cell_type": "markdown",
   "metadata": {},
   "source": [
    "## React Example\n",
    "Because this is a Python notebook, we are saving the Javascript/JSX into a Python and then inserting it to the page (don't worry about this, unless you really want to dig into how Jupyter and everything integrates). Focus on the contents of the `react_jsx` varible."
   ]
  },
  {
   "cell_type": "markdown",
   "metadata": {},
   "source": [
    "Ignore this block of code. It is some boilerplate hack that let's us run React in a Jupyter Notebook."
   ]
  },
  {
   "cell_type": "code",
   "execution_count": 1,
   "metadata": {},
   "outputs": [
    {
     "data": {
      "text/html": [
       "\n",
       "  <script>\n",
       "    requirejs.config({\"paths\": {\"babel\": \"https://cdnjs.cloudflare.com/ajax/libs/babel-standalone/6.25.0/babel\", \"react\": \"https://cdnjs.cloudflare.com/ajax/libs/react/15.6.1/react\", \"react-dom\": \"https://cdnjs.cloudflare.com/ajax/libs/react/15.6.1/react-dom\", \"axios\": \"https://cdnjs.cloudflare.com/ajax/libs/axios/0.16.2/axios\"}});\n",
       "    requirejs(['babel', 'react', 'react-dom', 'axios'], \n",
       "      function(babel, react, reactdom, axios) {\n",
       "        window.Babel = babel;\n",
       "        window.React = react;\n",
       "        window.ReactDOM = reactdom;\n",
       "        window.axios = axios;\n",
       "    });\n",
       "  </script>\n"
      ],
      "text/plain": [
       "<IPython.core.display.HTML object>"
      ]
     },
     "execution_count": 1,
     "metadata": {},
     "output_type": "execute_result"
    }
   ],
   "source": [
    "from IPython.core.display import HTML\n",
    "from string import Template\n",
    "import json\n",
    "\n",
    "requirejs_config_template = Template(\"\"\"\n",
    "  <script>\n",
    "    requirejs.config($config);\n",
    "    requirejs(['babel', 'react', 'react-dom', 'axios'], \n",
    "      function(babel, react, reactdom, axios) {\n",
    "        window.Babel = babel;\n",
    "        window.React = react;\n",
    "        window.ReactDOM = reactdom;\n",
    "        window.axios = axios;\n",
    "    });\n",
    "  </script>\n",
    "\"\"\")\n",
    "\n",
    "requirejs_path = {\n",
    "    'paths': {\n",
    "        'babel': 'https://cdnjs.cloudflare.com/ajax/libs/babel-standalone/6.25.0/babel',\n",
    "        'react': 'https://cdnjs.cloudflare.com/ajax/libs/react/15.6.1/react',\n",
    "        'react-dom': 'https://cdnjs.cloudflare.com/ajax/libs/react/15.6.1/react-dom',\n",
    "        'axios': 'https://cdnjs.cloudflare.com/ajax/libs/axios/0.16.2/axios'\n",
    "    }\n",
    "}\n",
    "\n",
    "# JQuery is referenced using `$$` because `$` has to be escaped when using `string.Template`\n",
    "react_template = Template(\"\"\"\n",
    "  <div id=\"display\"></div>\n",
    "  <script>\n",
    "    $$('script[type=\"text/babel\"]').each(function(i, e) {\n",
    "      var newScript = document.createElement(\"script\")\n",
    "      newScript.innerHTML = Babel.transform(e.innerHTML, {\n",
    "          presets: ['es2015', 'react', 'stage-0']\n",
    "        }).code;\n",
    "      e.after(newScript);\n",
    "    });\n",
    "  </script>\n",
    "  <script type=\"text/babel\">$babelScript</script>\n",
    "\"\"\")\n",
    "\n",
    "HTML(requirejs_config_template.substitute({\n",
    "    'config': json.dumps(requirejs_path)\n",
    "}))"
   ]
  },
  {
   "cell_type": "code",
   "execution_count": 2,
   "metadata": {},
   "outputs": [
    {
     "data": {
      "text/html": [
       "\n",
       "  <div id=\"display\"></div>\n",
       "  <script>\n",
       "    $('script[type=\"text/babel\"]').each(function(i, e) {\n",
       "      var newScript = document.createElement(\"script\")\n",
       "      newScript.innerHTML = Babel.transform(e.innerHTML, {\n",
       "          presets: ['es2015', 'react', 'stage-0']\n",
       "        }).code;\n",
       "      e.after(newScript);\n",
       "    });\n",
       "  </script>\n",
       "  <script type=\"text/babel\">\n",
       "  class App extends React.Component {\n",
       "    constructor(props) {\n",
       "      super(props)\n",
       "      this.state = { posts: [] };\n",
       "      this.name = props.name;\n",
       "    }\n",
       "    \n",
       "    // where the magic happens. method will be executed when the comoponent 'mounts'\n",
       "    // or 'is added to DOM' for first time\n",
       "    componentDidMount() {\n",
       "        // fetch server data\n",
       "        axios.get('http://www.reddit.com/hot.json')\n",
       "          .then(result=> {\n",
       "            const posts = result.data.data.children.map(obj => obj.data);\n",
       "            // the component's state is updated by calling thsi.setState with\n",
       "            // the new array of posts. This triggers a re-render, and then the\n",
       "            // posts are visible\n",
       "            this.setState({ posts })\n",
       "          });\n",
       "    }\n",
       "    \n",
       "    render() {\n",
       "      return (\n",
       "      <div>\n",
       "      <h1>Hello, {this.name}, current hot Reddit posts</h1>\n",
       "      <ul>\n",
       "        {this.state.posts.map(post => \n",
       "          <li>{post.title}</li>\n",
       "        )}\n",
       "      </ul>\n",
       "      </div>\n",
       "      );\n",
       "    }\n",
       "  }\n",
       "  ReactDOM.render(<App name=\"World\" />, document.getElementById('display'));\n",
       "</script>\n"
      ],
      "text/plain": [
       "<IPython.core.display.HTML object>"
      ]
     },
     "execution_count": 2,
     "metadata": {},
     "output_type": "execute_result"
    }
   ],
   "source": [
    "react_jsx = \"\"\"\n",
    "  class App extends React.Component {\n",
    "    constructor(props) {\n",
    "      super(props)\n",
    "      this.state = { posts: [] };\n",
    "      this.name = props.name;\n",
    "    }\n",
    "    \n",
    "    // where the magic happens. method will be executed when the comoponent 'mounts'\n",
    "    // or 'is added to DOM' for first time\n",
    "    componentDidMount() {\n",
    "        // fetch server data\n",
    "        axios.get('http://www.reddit.com/hot.json')\n",
    "          .then(result=> {\n",
    "            const posts = result.data.data.children.map(obj => obj.data);\n",
    "            // the component's state is updated by calling thsi.setState with\n",
    "            // the new array of posts. This triggers a re-render, and then the\n",
    "            // posts are visible\n",
    "            this.setState({ posts })\n",
    "          });\n",
    "    }\n",
    "    \n",
    "    render() {\n",
    "      return (\n",
    "      <div>\n",
    "      <h1>Hello, {this.name}, current hot Reddit posts</h1>\n",
    "      <ul>\n",
    "        {this.state.posts.map(post => \n",
    "          <li>{post.title}</li>\n",
    "        )}\n",
    "      </ul>\n",
    "      </div>\n",
    "      );\n",
    "    }\n",
    "  }\n",
    "  ReactDOM.render(<App name=\"World\" />, document.getElementById('display'));\n",
    "\"\"\"\n",
    "HTML(react_template.substitute({'babelScript': react_jsx}))"
   ]
  },
  {
   "cell_type": "markdown",
   "metadata": {
    "collapsed": true
   },
   "source": [
    "## Now your turn to try it\n",
    "Try building a simple visualization of the aggregated Titanic data using React and C3js. To access the React tools and libraries in a already running `anidata/python-dev` Docker container run\n",
    "\n",
    "```\n",
    "docker exec -it python-dev /bin/bash\n",
    "cd startup-ds-workshop\n",
    "create-react-app titanic-viz\n",
    "```\n",
    "\n",
    "Open up the Atom Editor, navigate to the `titanic-viz` folder and start hacking!"
   ]
  },
  {
   "cell_type": "markdown",
   "metadata": {},
   "source": [
    "## References\n",
    "* http://c3js.org/\n",
    "* https://facebook.github.io/react/docs/hello-world.html"
   ]
  }
 ],
 "metadata": {
  "kernelspec": {
   "display_name": "Python 3",
   "language": "python",
   "name": "python3"
  },
  "language_info": {
   "codemirror_mode": {
    "name": "ipython",
    "version": 3
   },
   "file_extension": ".py",
   "mimetype": "text/x-python",
   "name": "python",
   "nbconvert_exporter": "python",
   "pygments_lexer": "ipython3",
   "version": "3.6.2"
  }
 },
 "nbformat": 4,
 "nbformat_minor": 2
}
